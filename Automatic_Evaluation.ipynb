{
  "nbformat": 4,
  "nbformat_minor": 0,
  "metadata": {
    "colab": {
      "provenance": []
    },
    "kernelspec": {
      "name": "python3",
      "display_name": "Python 3"
    },
    "language_info": {
      "name": "python"
    },
    "widgets": {
      "application/vnd.jupyter.widget-state+json": {
        "2ecd44270c614745be239373d1a3dcc9": {
          "model_module": "@jupyter-widgets/controls",
          "model_name": "HBoxModel",
          "model_module_version": "1.5.0",
          "state": {
            "_dom_classes": [],
            "_model_module": "@jupyter-widgets/controls",
            "_model_module_version": "1.5.0",
            "_model_name": "HBoxModel",
            "_view_count": null,
            "_view_module": "@jupyter-widgets/controls",
            "_view_module_version": "1.5.0",
            "_view_name": "HBoxView",
            "box_style": "",
            "children": [
              "IPY_MODEL_06ad0be45a2f44fb85f4943fbfb67e3c",
              "IPY_MODEL_eac1a77e0f8b40ffabe63903f9e33f11",
              "IPY_MODEL_747b9711ba89417e8316f43730e22b16"
            ],
            "layout": "IPY_MODEL_71092002c8b548c192a169a802e6c343"
          }
        },
        "06ad0be45a2f44fb85f4943fbfb67e3c": {
          "model_module": "@jupyter-widgets/controls",
          "model_name": "HTMLModel",
          "model_module_version": "1.5.0",
          "state": {
            "_dom_classes": [],
            "_model_module": "@jupyter-widgets/controls",
            "_model_module_version": "1.5.0",
            "_model_name": "HTMLModel",
            "_view_count": null,
            "_view_module": "@jupyter-widgets/controls",
            "_view_module_version": "1.5.0",
            "_view_name": "HTMLView",
            "description": "",
            "description_tooltip": null,
            "layout": "IPY_MODEL_7968742029a64f02a6bac7b3ed414a83",
            "placeholder": "​",
            "style": "IPY_MODEL_75aed193fce64efcb56cd9189a17af9e",
            "value": "100%"
          }
        },
        "eac1a77e0f8b40ffabe63903f9e33f11": {
          "model_module": "@jupyter-widgets/controls",
          "model_name": "FloatProgressModel",
          "model_module_version": "1.5.0",
          "state": {
            "_dom_classes": [],
            "_model_module": "@jupyter-widgets/controls",
            "_model_module_version": "1.5.0",
            "_model_name": "FloatProgressModel",
            "_view_count": null,
            "_view_module": "@jupyter-widgets/controls",
            "_view_module_version": "1.5.0",
            "_view_name": "ProgressView",
            "bar_style": "success",
            "description": "",
            "description_tooltip": null,
            "layout": "IPY_MODEL_4315378ab1aa48b8850ff6f6128aeea2",
            "max": 1,
            "min": 0,
            "orientation": "horizontal",
            "style": "IPY_MODEL_99ab780add454389a16a51c199dbb1a6",
            "value": 1
          }
        },
        "747b9711ba89417e8316f43730e22b16": {
          "model_module": "@jupyter-widgets/controls",
          "model_name": "HTMLModel",
          "model_module_version": "1.5.0",
          "state": {
            "_dom_classes": [],
            "_model_module": "@jupyter-widgets/controls",
            "_model_module_version": "1.5.0",
            "_model_name": "HTMLModel",
            "_view_count": null,
            "_view_module": "@jupyter-widgets/controls",
            "_view_module_version": "1.5.0",
            "_view_name": "HTMLView",
            "description": "",
            "description_tooltip": null,
            "layout": "IPY_MODEL_942dd29e34a140098c0cea07f7d2b814",
            "placeholder": "​",
            "style": "IPY_MODEL_7536a0fa9c9b4cca94f07fde72ff106b",
            "value": " 1/1 [00:00&lt;00:00,  1.72it/s]"
          }
        },
        "71092002c8b548c192a169a802e6c343": {
          "model_module": "@jupyter-widgets/base",
          "model_name": "LayoutModel",
          "model_module_version": "1.2.0",
          "state": {
            "_model_module": "@jupyter-widgets/base",
            "_model_module_version": "1.2.0",
            "_model_name": "LayoutModel",
            "_view_count": null,
            "_view_module": "@jupyter-widgets/base",
            "_view_module_version": "1.2.0",
            "_view_name": "LayoutView",
            "align_content": null,
            "align_items": null,
            "align_self": null,
            "border": null,
            "bottom": null,
            "display": null,
            "flex": null,
            "flex_flow": null,
            "grid_area": null,
            "grid_auto_columns": null,
            "grid_auto_flow": null,
            "grid_auto_rows": null,
            "grid_column": null,
            "grid_gap": null,
            "grid_row": null,
            "grid_template_areas": null,
            "grid_template_columns": null,
            "grid_template_rows": null,
            "height": null,
            "justify_content": null,
            "justify_items": null,
            "left": null,
            "margin": null,
            "max_height": null,
            "max_width": null,
            "min_height": null,
            "min_width": null,
            "object_fit": null,
            "object_position": null,
            "order": null,
            "overflow": null,
            "overflow_x": null,
            "overflow_y": null,
            "padding": null,
            "right": null,
            "top": null,
            "visibility": null,
            "width": null
          }
        },
        "7968742029a64f02a6bac7b3ed414a83": {
          "model_module": "@jupyter-widgets/base",
          "model_name": "LayoutModel",
          "model_module_version": "1.2.0",
          "state": {
            "_model_module": "@jupyter-widgets/base",
            "_model_module_version": "1.2.0",
            "_model_name": "LayoutModel",
            "_view_count": null,
            "_view_module": "@jupyter-widgets/base",
            "_view_module_version": "1.2.0",
            "_view_name": "LayoutView",
            "align_content": null,
            "align_items": null,
            "align_self": null,
            "border": null,
            "bottom": null,
            "display": null,
            "flex": null,
            "flex_flow": null,
            "grid_area": null,
            "grid_auto_columns": null,
            "grid_auto_flow": null,
            "grid_auto_rows": null,
            "grid_column": null,
            "grid_gap": null,
            "grid_row": null,
            "grid_template_areas": null,
            "grid_template_columns": null,
            "grid_template_rows": null,
            "height": null,
            "justify_content": null,
            "justify_items": null,
            "left": null,
            "margin": null,
            "max_height": null,
            "max_width": null,
            "min_height": null,
            "min_width": null,
            "object_fit": null,
            "object_position": null,
            "order": null,
            "overflow": null,
            "overflow_x": null,
            "overflow_y": null,
            "padding": null,
            "right": null,
            "top": null,
            "visibility": null,
            "width": null
          }
        },
        "75aed193fce64efcb56cd9189a17af9e": {
          "model_module": "@jupyter-widgets/controls",
          "model_name": "DescriptionStyleModel",
          "model_module_version": "1.5.0",
          "state": {
            "_model_module": "@jupyter-widgets/controls",
            "_model_module_version": "1.5.0",
            "_model_name": "DescriptionStyleModel",
            "_view_count": null,
            "_view_module": "@jupyter-widgets/base",
            "_view_module_version": "1.2.0",
            "_view_name": "StyleView",
            "description_width": ""
          }
        },
        "4315378ab1aa48b8850ff6f6128aeea2": {
          "model_module": "@jupyter-widgets/base",
          "model_name": "LayoutModel",
          "model_module_version": "1.2.0",
          "state": {
            "_model_module": "@jupyter-widgets/base",
            "_model_module_version": "1.2.0",
            "_model_name": "LayoutModel",
            "_view_count": null,
            "_view_module": "@jupyter-widgets/base",
            "_view_module_version": "1.2.0",
            "_view_name": "LayoutView",
            "align_content": null,
            "align_items": null,
            "align_self": null,
            "border": null,
            "bottom": null,
            "display": null,
            "flex": null,
            "flex_flow": null,
            "grid_area": null,
            "grid_auto_columns": null,
            "grid_auto_flow": null,
            "grid_auto_rows": null,
            "grid_column": null,
            "grid_gap": null,
            "grid_row": null,
            "grid_template_areas": null,
            "grid_template_columns": null,
            "grid_template_rows": null,
            "height": null,
            "justify_content": null,
            "justify_items": null,
            "left": null,
            "margin": null,
            "max_height": null,
            "max_width": null,
            "min_height": null,
            "min_width": null,
            "object_fit": null,
            "object_position": null,
            "order": null,
            "overflow": null,
            "overflow_x": null,
            "overflow_y": null,
            "padding": null,
            "right": null,
            "top": null,
            "visibility": null,
            "width": null
          }
        },
        "99ab780add454389a16a51c199dbb1a6": {
          "model_module": "@jupyter-widgets/controls",
          "model_name": "ProgressStyleModel",
          "model_module_version": "1.5.0",
          "state": {
            "_model_module": "@jupyter-widgets/controls",
            "_model_module_version": "1.5.0",
            "_model_name": "ProgressStyleModel",
            "_view_count": null,
            "_view_module": "@jupyter-widgets/base",
            "_view_module_version": "1.2.0",
            "_view_name": "StyleView",
            "bar_color": null,
            "description_width": ""
          }
        },
        "942dd29e34a140098c0cea07f7d2b814": {
          "model_module": "@jupyter-widgets/base",
          "model_name": "LayoutModel",
          "model_module_version": "1.2.0",
          "state": {
            "_model_module": "@jupyter-widgets/base",
            "_model_module_version": "1.2.0",
            "_model_name": "LayoutModel",
            "_view_count": null,
            "_view_module": "@jupyter-widgets/base",
            "_view_module_version": "1.2.0",
            "_view_name": "LayoutView",
            "align_content": null,
            "align_items": null,
            "align_self": null,
            "border": null,
            "bottom": null,
            "display": null,
            "flex": null,
            "flex_flow": null,
            "grid_area": null,
            "grid_auto_columns": null,
            "grid_auto_flow": null,
            "grid_auto_rows": null,
            "grid_column": null,
            "grid_gap": null,
            "grid_row": null,
            "grid_template_areas": null,
            "grid_template_columns": null,
            "grid_template_rows": null,
            "height": null,
            "justify_content": null,
            "justify_items": null,
            "left": null,
            "margin": null,
            "max_height": null,
            "max_width": null,
            "min_height": null,
            "min_width": null,
            "object_fit": null,
            "object_position": null,
            "order": null,
            "overflow": null,
            "overflow_x": null,
            "overflow_y": null,
            "padding": null,
            "right": null,
            "top": null,
            "visibility": null,
            "width": null
          }
        },
        "7536a0fa9c9b4cca94f07fde72ff106b": {
          "model_module": "@jupyter-widgets/controls",
          "model_name": "DescriptionStyleModel",
          "model_module_version": "1.5.0",
          "state": {
            "_model_module": "@jupyter-widgets/controls",
            "_model_module_version": "1.5.0",
            "_model_name": "DescriptionStyleModel",
            "_view_count": null,
            "_view_module": "@jupyter-widgets/base",
            "_view_module_version": "1.2.0",
            "_view_name": "StyleView",
            "description_width": ""
          }
        }
      }
    }
  },
  "cells": [
    {
      "cell_type": "code",
      "source": [
        "# # Check the perplexity of the question stems\n",
        "#!pip install evaluate transformers\n",
        "from evaluate import load\n",
        "\n",
        "perplexity = load(\"perplexity\", module_type=\"metric\")\n",
        "texts = [\n",
        "    \"If colony means an area under the rule of a king, then the word anticolonial means…\",\n",
        "    \"If nation means a country, then the word internationally means…\",\n",
        "    \"If crypt means hidden and graph stands for writing, then the word cryptographer means…\",\n",
        "    \"If fatigue means being tired, then the word misfatigue means…\"\n",
        "]\n",
        "\n",
        "results = perplexity.compute(predictions=texts, model_id='gpt2')\n",
        "\n",
        "for i, text in enumerate(texts):\n",
        "    print(f\"Text {i+1}: \\\"{text}\\\"\")\n",
        "    print(f\"  Perplexity: {round(results['perplexities'][i], 2)}\")\n",
        "\n",
        "print(f\"\\nMean Perplexity: {round(results['mean_perplexity'], 2)}\")\n"
      ],
      "metadata": {
        "colab": {
          "base_uri": "https://localhost:8080/",
          "height": 223,
          "referenced_widgets": [
            "2ecd44270c614745be239373d1a3dcc9",
            "06ad0be45a2f44fb85f4943fbfb67e3c",
            "eac1a77e0f8b40ffabe63903f9e33f11",
            "747b9711ba89417e8316f43730e22b16",
            "71092002c8b548c192a169a802e6c343",
            "7968742029a64f02a6bac7b3ed414a83",
            "75aed193fce64efcb56cd9189a17af9e",
            "4315378ab1aa48b8850ff6f6128aeea2",
            "99ab780add454389a16a51c199dbb1a6",
            "942dd29e34a140098c0cea07f7d2b814",
            "7536a0fa9c9b4cca94f07fde72ff106b"
          ]
        },
        "id": "HOrjvSr0Jjyd",
        "outputId": "fedca868-11a4-4e4f-b91b-18db42bcad67"
      },
      "execution_count": 19,
      "outputs": [
        {
          "output_type": "display_data",
          "data": {
            "text/plain": [
              "  0%|          | 0/1 [00:00<?, ?it/s]"
            ],
            "application/vnd.jupyter.widget-view+json": {
              "version_major": 2,
              "version_minor": 0,
              "model_id": "2ecd44270c614745be239373d1a3dcc9"
            }
          },
          "metadata": {}
        },
        {
          "output_type": "stream",
          "name": "stdout",
          "text": [
            "Text 1: \"If colony means an area under the rule of a king, then the word anticolonial means…\"\n",
            "  Perplexity: 129.35\n",
            "Text 2: \"If nation means a country, then the word internationally means…\"\n",
            "  Perplexity: 162.03\n",
            "Text 3: \"If crypt means hidden and graph stands for writing, then the word cryptographer means…\"\n",
            "  Perplexity: 428.36\n",
            "Text 4: \"If fatigue means being tired, then the word misfatigue means…\"\n",
            "  Perplexity: 194.89\n",
            "\n",
            "Mean Perplexity: 228.66\n"
          ]
        }
      ]
    },
    {
      "cell_type": "code",
      "source": [
        "#!pip install wordfreq\n",
        "from wordfreq import zipf_frequency\n",
        "\n",
        "group_1 = ['unfair', 'intergovernmental', 'zeal', 'joyful', 'electrician']\n",
        "group_2 = ['misapprehension', 'antidisestablishment','incontrovertible', 'transmogrification', 'hyperpolarization', 'preindeliberated']\n",
        "\n",
        "def print_zipf_scores(words, group_name):\n",
        "    print(f\"\\n{group_name}:\")\n",
        "    for word in words:\n",
        "        score = zipf_frequency(word, 'en')\n",
        "        print(f\"{word}: {score}\")\n",
        "\n",
        "print_zipf_scores(group_1, \"Group 1\")\n",
        "print_zipf_scores(group_2, \"Group 2\")\n"
      ],
      "metadata": {
        "colab": {
          "base_uri": "https://localhost:8080/"
        },
        "id": "yzdVjCcFblpX",
        "outputId": "49734fed-2102-4201-844d-f94c7beb229b"
      },
      "execution_count": 15,
      "outputs": [
        {
          "output_type": "stream",
          "name": "stdout",
          "text": [
            "\n",
            "Group 1:\n",
            "unfair: 4.17\n",
            "intergovernmental: 3.1\n",
            "zeal: 3.28\n",
            "joyful: 3.4\n",
            "electrician: 3.26\n",
            "\n",
            "Group 2:\n",
            "misapprehension: 2.06\n",
            "antidisestablishment: 0.0\n",
            "incontrovertible: 2.46\n",
            "transmogrification: 1.6\n",
            "hyperpolarization: 1.69\n",
            "preindeliberated: 0.0\n"
          ]
        }
      ]
    },
    {
      "cell_type": "code",
      "source": [
        "#!pip install sentence-transformers\n",
        "from sentence_transformers import SentenceTransformer, util\n",
        "\n",
        "model = SentenceTransformer('all-MiniLM-L6-v2')\n",
        "\n",
        "def evaluate_with_distractors(keyword: str, options: dict):\n",
        "    keyword_embedding = model.encode(keyword, convert_to_tensor=True)\n",
        "    results = {}\n",
        "\n",
        "    for label, text in options.items():\n",
        "        option_embedding = model.encode(text, convert_to_tensor=True)\n",
        "        similarity = float(util.cos_sim(keyword_embedding, option_embedding))\n",
        "        results[label] = similarity\n",
        "\n",
        "    return results\n",
        "\n",
        "\n",
        "keyword1 = \"cryptographer\"\n",
        "options1 = {\n",
        "    \"Correct_Answer\": \"someone who studies secret writing\",\n",
        "    \"Distractor_1\": \"someone who writes in secret\",\n",
        "    \"Distractor_2\": \"someone who hides secret writing\"\n",
        "}\n",
        "sim_scores1 = evaluate_with_distractors(keyword1, options1)\n",
        "print(\"Cryptographer:\", sim_scores1)\n",
        "\n",
        "\n",
        "keyword2 = \"intergovernmental\"\n",
        "options2 = {\n",
        "    \"Distractor_1\": \"against groups of political officials\",\n",
        "    \"Correct_Answer\": \"between groups of political officials\",\n",
        "    \"Distractor_2\": \"between kings and princes\"\n",
        "}\n",
        "sim_scores2 = evaluate_with_distractors(keyword2, options2)\n",
        "print(\"Intergovernmental:\", sim_scores2)\n"
      ],
      "metadata": {
        "colab": {
          "base_uri": "https://localhost:8080/"
        },
        "id": "5_VZ-wogbmeK",
        "outputId": "f1d6e271-804e-4b90-ff01-b5d00d2455a8"
      },
      "execution_count": 18,
      "outputs": [
        {
          "output_type": "stream",
          "name": "stdout",
          "text": [
            "Cryptographer: {'Correct_Answe': 0.4772760272026062, 'Distractor_1': 0.4447832703590393, 'Distractor_2': 0.43788760900497437}\n",
            "Intergovernmental: {'Distractor_1': 0.4245999753475189, 'Correct_Answer': 0.5257800817489624, 'Distractor_2': 0.22636467218399048}\n"
          ]
        }
      ]
    }
  ]
}